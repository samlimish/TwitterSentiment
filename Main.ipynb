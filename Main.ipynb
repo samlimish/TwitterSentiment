{
 "cells": [
  {
   "cell_type": "code",
   "execution_count": 2,
   "metadata": {
    "ExecuteTime": {
     "end_time": "2021-12-28T09:05:01.585129Z",
     "start_time": "2021-12-28T09:05:01.575127Z"
    }
   },
   "outputs": [],
   "source": [
    "#Import Libraries\n",
    "\n",
    "# For sending GET requests from the API\n",
    "import requests\n",
    "# For saving access tokens and for file management when creating and adding to the dataset\n",
    "import os\n",
    "# For dealing with json responses we receive from the API\n",
    "import json\n",
    "# For displaying the data after\n",
    "import pandas as pd\n",
    "# For saving the response data in CSV format\n",
    "import csv\n",
    "# For parsing the dates received from twitter in readable formats\n",
    "import datetime\n",
    "import dateutil.parser\n",
    "import unicodedata\n",
    "#To add wait time between requests\n",
    "import time\n"
   ]
  },
  {
   "cell_type": "code",
   "execution_count": 3,
   "metadata": {
    "ExecuteTime": {
     "end_time": "2021-12-28T09:05:01.761168Z",
     "start_time": "2021-12-28T09:05:01.759168Z"
    }
   },
   "outputs": [],
   "source": [
    "# API Keys\n",
    "AccessToken='978110646494560258-hZ8uu9l2e2BsZasvicyiud3YswS3hKu'\n",
    "AccessSecretToken='8TE4L8eDUGlQFhEYG5Lr7VvbgxbW9EWZOyd9WQvjl8g4L'\n",
    "APIKey='3zCu2tbqCpnkyHLb9gOVg9U2J'\n",
    "APISecretKey='h7NBz1Xk346UoYNLrTv3WVZvQrjnKYRYHVamtFNykbQKAuy1N7'\n",
    "BearerToken='AAAAAAAAAAAAAAAAAAAAABuoRAEAAAAAF4BVejhqUHFb%2FmiQOjo%2FyDxIK8c%3D4p4rH6Hz6ucEJeYTx4D2s7LB7hAbM7bNjtZ8ZyQ5vXcrJtgsCn'"
   ]
  },
  {
   "cell_type": "code",
   "execution_count": 4,
   "metadata": {
    "ExecuteTime": {
     "end_time": "2021-12-28T09:05:01.950211Z",
     "start_time": "2021-12-28T09:05:01.943210Z"
    }
   },
   "outputs": [],
   "source": [
    "os.environ['TOKEN'] = BearerToken\n"
   ]
  },
  {
   "cell_type": "code",
   "execution_count": 5,
   "metadata": {
    "ExecuteTime": {
     "end_time": "2021-12-28T13:40:09.429625Z",
     "start_time": "2021-12-28T13:40:09.414631Z"
    }
   },
   "outputs": [],
   "source": [
    "def create_headers(bearer_token):\n",
    "    headers = {\"Authorization\": \"Bearer {}\".format(bearer_token)}\n",
    "    return headers"
   ]
  },
  {
   "cell_type": "code",
   "execution_count": 7,
   "metadata": {
    "ExecuteTime": {
     "end_time": "2021-12-28T13:42:46.646620Z",
     "start_time": "2021-12-28T13:42:46.581605Z"
    }
   },
   "outputs": [
    {
     "data": {
      "text/html": [
       "<div>\n",
       "<style scoped>\n",
       "    .dataframe tbody tr th:only-of-type {\n",
       "        vertical-align: middle;\n",
       "    }\n",
       "\n",
       "    .dataframe tbody tr th {\n",
       "        vertical-align: top;\n",
       "    }\n",
       "\n",
       "    .dataframe thead th {\n",
       "        text-align: right;\n",
       "    }\n",
       "</style>\n",
       "<table border=\"1\" class=\"dataframe\">\n",
       "  <thead>\n",
       "    <tr style=\"text-align: right;\">\n",
       "      <th></th>\n",
       "      <th>Unnamed: 0</th>\n",
       "      <th>306675006</th>\n",
       "      <th>Unnamed: 2</th>\n",
       "      <th>38461</th>\n",
       "    </tr>\n",
       "  </thead>\n",
       "  <tbody>\n",
       "    <tr>\n",
       "      <th>0</th>\n",
       "      <td>.Alabama</td>\n",
       "      <td>4779736.0</td>\n",
       "      <td>0.015586</td>\n",
       "      <td>599.440524</td>\n",
       "    </tr>\n",
       "    <tr>\n",
       "      <th>1</th>\n",
       "      <td>.Arizona</td>\n",
       "      <td>6392017.0</td>\n",
       "      <td>0.020843</td>\n",
       "      <td>801.641350</td>\n",
       "    </tr>\n",
       "    <tr>\n",
       "      <th>2</th>\n",
       "      <td>.Arkansas</td>\n",
       "      <td>2915918.0</td>\n",
       "      <td>0.009508</td>\n",
       "      <td>365.693715</td>\n",
       "    </tr>\n",
       "    <tr>\n",
       "      <th>3</th>\n",
       "      <td>.California</td>\n",
       "      <td>37253956.0</td>\n",
       "      <td>0.121477</td>\n",
       "      <td>4672.126432</td>\n",
       "    </tr>\n",
       "    <tr>\n",
       "      <th>4</th>\n",
       "      <td>.Colorado</td>\n",
       "      <td>5029196.0</td>\n",
       "      <td>0.016399</td>\n",
       "      <td>630.726025</td>\n",
       "    </tr>\n",
       "  </tbody>\n",
       "</table>\n",
       "</div>"
      ],
      "text/plain": [
       "    Unnamed: 0   306675006  Unnamed: 2        38461\n",
       "0     .Alabama   4779736.0    0.015586   599.440524\n",
       "1     .Arizona   6392017.0    0.020843   801.641350\n",
       "2    .Arkansas   2915918.0    0.009508   365.693715\n",
       "3  .California  37253956.0    0.121477  4672.126432\n",
       "4    .Colorado   5029196.0    0.016399   630.726025"
      ]
     },
     "execution_count": 7,
     "metadata": {},
     "output_type": "execute_result"
    }
   ],
   "source": [
    "#Import Population Proportion by State\n",
    "PopProp = pd.read_excel('PopulationPercentageByState.xlsx')\n",
    "PopProp.head()\n",
    "\n",
    "#I wanted to get the proportions of each state so that I would know how many tweets I should be extracting from each state\n",
    "#in regards to the proportion of the population."
   ]
  },
  {
   "cell_type": "code",
   "execution_count": 11,
   "metadata": {
    "ExecuteTime": {
     "end_time": "2022-01-03T10:58:16.094382Z",
     "start_time": "2022-01-03T10:58:16.077378Z"
    }
   },
   "outputs": [
    {
     "data": {
      "text/html": [
       "<div>\n",
       "<style scoped>\n",
       "    .dataframe tbody tr th:only-of-type {\n",
       "        vertical-align: middle;\n",
       "    }\n",
       "\n",
       "    .dataframe tbody tr th {\n",
       "        vertical-align: top;\n",
       "    }\n",
       "\n",
       "    .dataframe thead th {\n",
       "        text-align: right;\n",
       "    }\n",
       "</style>\n",
       "<table border=\"1\" class=\"dataframe\">\n",
       "  <thead>\n",
       "    <tr style=\"text-align: right;\">\n",
       "      <th></th>\n",
       "      <th>State</th>\n",
       "      <th>Population</th>\n",
       "      <th>Percentage</th>\n",
       "      <th>MonthlyTweets</th>\n",
       "    </tr>\n",
       "  </thead>\n",
       "  <tbody>\n",
       "    <tr>\n",
       "      <th>0</th>\n",
       "      <td>.Alabama</td>\n",
       "      <td>4779736.0</td>\n",
       "      <td>0.015586</td>\n",
       "      <td>599.440524</td>\n",
       "    </tr>\n",
       "    <tr>\n",
       "      <th>1</th>\n",
       "      <td>.Arizona</td>\n",
       "      <td>6392017.0</td>\n",
       "      <td>0.020843</td>\n",
       "      <td>801.641350</td>\n",
       "    </tr>\n",
       "    <tr>\n",
       "      <th>2</th>\n",
       "      <td>.Arkansas</td>\n",
       "      <td>2915918.0</td>\n",
       "      <td>0.009508</td>\n",
       "      <td>365.693715</td>\n",
       "    </tr>\n",
       "    <tr>\n",
       "      <th>3</th>\n",
       "      <td>.California</td>\n",
       "      <td>37253956.0</td>\n",
       "      <td>0.121477</td>\n",
       "      <td>4672.126432</td>\n",
       "    </tr>\n",
       "    <tr>\n",
       "      <th>4</th>\n",
       "      <td>.Colorado</td>\n",
       "      <td>5029196.0</td>\n",
       "      <td>0.016399</td>\n",
       "      <td>630.726025</td>\n",
       "    </tr>\n",
       "  </tbody>\n",
       "</table>\n",
       "</div>"
      ],
      "text/plain": [
       "         State  Population  Percentage  MonthlyTweets\n",
       "0     .Alabama   4779736.0    0.015586     599.440524\n",
       "1     .Arizona   6392017.0    0.020843     801.641350\n",
       "2    .Arkansas   2915918.0    0.009508     365.693715\n",
       "3  .California  37253956.0    0.121477    4672.126432\n",
       "4    .Colorado   5029196.0    0.016399     630.726025"
      ]
     },
     "execution_count": 11,
     "metadata": {},
     "output_type": "execute_result"
    }
   ],
   "source": [
    "# Renaming PopProp column names\n",
    "PopProp.columns=['State','Population','Percentage','MonthlyTweets']\n",
    "PopProp.head()"
   ]
  },
  {
   "cell_type": "code",
   "execution_count": 29,
   "metadata": {
    "ExecuteTime": {
     "end_time": "2022-01-03T11:05:22.819305Z",
     "start_time": "2022-01-03T11:05:22.805311Z"
    }
   },
   "outputs": [
    {
     "data": {
      "text/html": [
       "<div>\n",
       "<style scoped>\n",
       "    .dataframe tbody tr th:only-of-type {\n",
       "        vertical-align: middle;\n",
       "    }\n",
       "\n",
       "    .dataframe tbody tr th {\n",
       "        vertical-align: top;\n",
       "    }\n",
       "\n",
       "    .dataframe thead th {\n",
       "        text-align: right;\n",
       "    }\n",
       "</style>\n",
       "<table border=\"1\" class=\"dataframe\">\n",
       "  <thead>\n",
       "    <tr style=\"text-align: right;\">\n",
       "      <th></th>\n",
       "      <th>State</th>\n",
       "      <th>Population</th>\n",
       "      <th>Percentage</th>\n",
       "      <th>MonthlyTweets</th>\n",
       "    </tr>\n",
       "  </thead>\n",
       "  <tbody>\n",
       "    <tr>\n",
       "      <th>0</th>\n",
       "      <td>.Alabama</td>\n",
       "      <td>4779736.0</td>\n",
       "      <td>0.015586</td>\n",
       "      <td>599.0</td>\n",
       "    </tr>\n",
       "    <tr>\n",
       "      <th>1</th>\n",
       "      <td>.Arizona</td>\n",
       "      <td>6392017.0</td>\n",
       "      <td>0.020843</td>\n",
       "      <td>802.0</td>\n",
       "    </tr>\n",
       "    <tr>\n",
       "      <th>2</th>\n",
       "      <td>.Arkansas</td>\n",
       "      <td>2915918.0</td>\n",
       "      <td>0.009508</td>\n",
       "      <td>366.0</td>\n",
       "    </tr>\n",
       "    <tr>\n",
       "      <th>3</th>\n",
       "      <td>.California</td>\n",
       "      <td>37253956.0</td>\n",
       "      <td>0.121477</td>\n",
       "      <td>4672.0</td>\n",
       "    </tr>\n",
       "    <tr>\n",
       "      <th>4</th>\n",
       "      <td>.Colorado</td>\n",
       "      <td>5029196.0</td>\n",
       "      <td>0.016399</td>\n",
       "      <td>631.0</td>\n",
       "    </tr>\n",
       "  </tbody>\n",
       "</table>\n",
       "</div>"
      ],
      "text/plain": [
       "         State  Population  Percentage  MonthlyTweets\n",
       "0     .Alabama   4779736.0    0.015586          599.0\n",
       "1     .Arizona   6392017.0    0.020843          802.0\n",
       "2    .Arkansas   2915918.0    0.009508          366.0\n",
       "3  .California  37253956.0    0.121477         4672.0\n",
       "4    .Colorado   5029196.0    0.016399          631.0"
      ]
     },
     "execution_count": 29,
     "metadata": {},
     "output_type": "execute_result"
    }
   ],
   "source": [
    "# PopProp['MonthlyTweets']=pd.to_numeric(PopProp['MonthlyTweets'].round(2).astype(int))\n",
    "# PopProp['MonthlyTweets']=PopProp['MonthlyTweets'].astype(int)\n",
    "# Converting MonthlyTweets into whole numbers by rounding.\n",
    "PopProp['MonthlyTweets']=PopProp['MonthlyTweets'].round(0)#.astype(int)\n",
    "PopProp.head()"
   ]
  },
  {
   "cell_type": "code",
   "execution_count": 30,
   "metadata": {
    "ExecuteTime": {
     "end_time": "2022-01-03T11:05:52.002916Z",
     "start_time": "2022-01-03T11:05:51.992922Z"
    }
   },
   "outputs": [
    {
     "data": {
      "text/plain": [
       "38460.0"
      ]
     },
     "execution_count": 30,
     "metadata": {},
     "output_type": "execute_result"
    }
   ],
   "source": [
    "# Since the total number of MonthlyTweets is less than 38461 by 1, I belive that my decision to use \n",
    "# .round(0) was reasonable. This needs to be less than 38461 so that the total number of the tweets\n",
    "# in each state by month does not go over 2 million.\n",
    "PopProp['MonthlyTweets'].sum()"
   ]
  },
  {
   "cell_type": "code",
   "execution_count": 49,
   "metadata": {
    "ExecuteTime": {
     "end_time": "2022-01-03T11:24:02.610722Z",
     "start_time": "2022-01-03T11:24:02.596711Z"
    }
   },
   "outputs": [],
   "source": [
    "# PopProp's states have a . at the beginning that needs to be removed as well as a NaN row and a url source row.\n",
    "PopProp['State']=PopProp['State'].str.replace(\".\",\"\")#.map(lambda x: x.lstrip('.'))\n",
    "PopProp=PopProp.drop([49,50])"
   ]
  },
  {
   "cell_type": "code",
   "execution_count": 50,
   "metadata": {
    "ExecuteTime": {
     "end_time": "2022-01-03T11:24:04.395125Z",
     "start_time": "2022-01-03T11:24:04.385122Z"
    }
   },
   "outputs": [
    {
     "data": {
      "text/plain": [
       "0                  Alabama\n",
       "1                  Arizona\n",
       "2                 Arkansas\n",
       "3               California\n",
       "4                 Colorado\n",
       "5              Connecticut\n",
       "6                 Delaware\n",
       "7     District of Columbia\n",
       "8                  Florida\n",
       "9                  Georgia\n",
       "10                   Idaho\n",
       "11                Illinois\n",
       "12                 Indiana\n",
       "13                    Iowa\n",
       "14                  Kansas\n",
       "15                Kentucky\n",
       "16               Louisiana\n",
       "17                   Maine\n",
       "18                Maryland\n",
       "19           Massachusetts\n",
       "20                Michigan\n",
       "21               Minnesota\n",
       "22             Mississippi\n",
       "23                Missouri\n",
       "24                 Montana\n",
       "25                Nebraska\n",
       "26                  Nevada\n",
       "27           New Hampshire\n",
       "28              New Jersey\n",
       "29              New Mexico\n",
       "30                New York\n",
       "31          North Carolina\n",
       "32            North Dakota\n",
       "33                    Ohio\n",
       "34                Oklahoma\n",
       "35                  Oregon\n",
       "36            Pennsylvania\n",
       "37            Rhode Island\n",
       "38          South Carolina\n",
       "39            South Dakota\n",
       "40               Tennessee\n",
       "41                   Texas\n",
       "42                    Utah\n",
       "43                 Vermont\n",
       "44                Virginia\n",
       "45              Washington\n",
       "46           West Virginia\n",
       "47               Wisconsin\n",
       "48                 Wyoming\n",
       "Name: State, dtype: object"
      ]
     },
     "execution_count": 50,
     "metadata": {},
     "output_type": "execute_result"
    }
   ],
   "source": [
    "PopProp['State']"
   ]
  },
  {
   "cell_type": "code",
   "execution_count": 31,
   "metadata": {
    "ExecuteTime": {
     "end_time": "2022-01-03T11:07:41.635701Z",
     "start_time": "2022-01-03T11:07:41.629700Z"
    }
   },
   "outputs": [],
   "source": [
    "# Creating a list of start and end dates for the tweets that I am going to collect\n",
    "\n",
    "timeline=[['2021-01-01', '2021-01-31'],['2021-02-01','2021-02-27'],['2021-03-01','2021-03-31'],\n",
    "         ['2021-04-01','2021-04-30'],['2021-05-01','2021-05-31'],['2021-06-01','2021-05-30'],['2021-07-01','2021-07-31'],\n",
    "         ['2021-08-01','2021-08-31'],['2021-09-01','2021-09-30'],['2021-10-01','2021-10-06'],['2021-11-01','2021-11-30'],\n",
    "         ['2021-12-01','2021-12-31']]\n",
    "\n",
    "# Using a for loop "
   ]
  },
  {
   "cell_type": "code",
   "execution_count": null,
   "metadata": {},
   "outputs": [],
   "source": [
    "# Creating a function that iterates over the PopProp and timeline\n",
    "\n",
    "def pull_tweet(start_date, end_date, state, tweet_num):\n",
    "    search_url = \"https://api.twitter.com/2/tweets/search/all\" \n",
    "    \n",
    "    "
   ]
  },
  {
   "cell_type": "code",
   "execution_count": null,
   "metadata": {},
   "outputs": [],
   "source": [
    "# Now we should think about how to select the tweets in terms of the number, geo location, and date.\n",
    "# An option would be to create a function that could automatically take in the state and the total number of \n",
    "# tweets that I need per state."
   ]
  }
 ],
 "metadata": {
  "kernelspec": {
   "display_name": "Python 3",
   "language": "python",
   "name": "python3"
  },
  "language_info": {
   "codemirror_mode": {
    "name": "ipython",
    "version": 3
   },
   "file_extension": ".py",
   "mimetype": "text/x-python",
   "name": "python",
   "nbconvert_exporter": "python",
   "pygments_lexer": "ipython3",
   "version": "3.8.5"
  },
  "toc": {
   "base_numbering": 1,
   "nav_menu": {},
   "number_sections": true,
   "sideBar": true,
   "skip_h1_title": false,
   "title_cell": "Table of Contents",
   "title_sidebar": "Contents",
   "toc_cell": false,
   "toc_position": {
    "height": "calc(100% - 180px)",
    "left": "10px",
    "top": "150px",
    "width": "384px"
   },
   "toc_section_display": true,
   "toc_window_display": true
  }
 },
 "nbformat": 4,
 "nbformat_minor": 4
}
