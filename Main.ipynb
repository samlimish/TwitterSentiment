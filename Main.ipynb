{
 "cells": [
  {
   "cell_type": "code",
   "execution_count": 2,
   "metadata": {
    "ExecuteTime": {
     "end_time": "2021-12-28T09:05:01.585129Z",
     "start_time": "2021-12-28T09:05:01.575127Z"
    }
   },
   "outputs": [],
   "source": [
    "#Import Libraries\n",
    "\n",
    "# For sending GET requests from the API\n",
    "import requests\n",
    "# For saving access tokens and for file management when creating and adding to the dataset\n",
    "import os\n",
    "# For dealing with json responses we receive from the API\n",
    "import json\n",
    "# For displaying the data after\n",
    "import pandas as pd\n",
    "# For saving the response data in CSV format\n",
    "import csv\n",
    "# For parsing the dates received from twitter in readable formats\n",
    "import datetime\n",
    "import dateutil.parser\n",
    "import unicodedata\n",
    "#To add wait time between requests\n",
    "import time\n"
   ]
  },
  {
   "cell_type": "code",
   "execution_count": 3,
   "metadata": {
    "ExecuteTime": {
     "end_time": "2021-12-28T09:05:01.761168Z",
     "start_time": "2021-12-28T09:05:01.759168Z"
    }
   },
   "outputs": [],
   "source": [
    "# API Keys\n",
    "AccessToken='978110646494560258-hZ8uu9l2e2BsZasvicyiud3YswS3hKu'\n",
    "AccessSecretToken='8TE4L8eDUGlQFhEYG5Lr7VvbgxbW9EWZOyd9WQvjl8g4L'\n",
    "APIKey='3zCu2tbqCpnkyHLb9gOVg9U2J'\n",
    "APISecretKey='h7NBz1Xk346UoYNLrTv3WVZvQrjnKYRYHVamtFNykbQKAuy1N7'\n",
    "BearerToken='AAAAAAAAAAAAAAAAAAAAABuoRAEAAAAAF4BVejhqUHFb%2FmiQOjo%2FyDxIK8c%3D4p4rH6Hz6ucEJeYTx4D2s7LB7hAbM7bNjtZ8ZyQ5vXcrJtgsCn'"
   ]
  },
  {
   "cell_type": "code",
   "execution_count": 4,
   "metadata": {
    "ExecuteTime": {
     "end_time": "2021-12-28T09:05:01.950211Z",
     "start_time": "2021-12-28T09:05:01.943210Z"
    }
   },
   "outputs": [],
   "source": [
    "os.environ['TOKEN'] = BearerToken\n"
   ]
  },
  {
   "cell_type": "code",
   "execution_count": null,
   "metadata": {},
   "outputs": [],
   "source": [
    "def create_headers(bearer_token):\n",
    "    headers = {\"Authorization\": \"Bearer {}\".format(bearer_token)}\n",
    "    return headers"
   ]
  }
 ],
 "metadata": {
  "kernelspec": {
   "display_name": "Python 3",
   "language": "python",
   "name": "python3"
  },
  "language_info": {
   "codemirror_mode": {
    "name": "ipython",
    "version": 3
   },
   "file_extension": ".py",
   "mimetype": "text/x-python",
   "name": "python",
   "nbconvert_exporter": "python",
   "pygments_lexer": "ipython3",
   "version": "3.8.5"
  },
  "toc": {
   "base_numbering": 1,
   "nav_menu": {},
   "number_sections": true,
   "sideBar": true,
   "skip_h1_title": false,
   "title_cell": "Table of Contents",
   "title_sidebar": "Contents",
   "toc_cell": false,
   "toc_position": {},
   "toc_section_display": true,
   "toc_window_display": true
  }
 },
 "nbformat": 4,
 "nbformat_minor": 4
}
